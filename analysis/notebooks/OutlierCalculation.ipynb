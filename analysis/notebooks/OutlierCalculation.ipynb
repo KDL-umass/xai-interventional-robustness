{
 "cells": [
  {
   "cell_type": "code",
   "execution_count": 1,
   "metadata": {},
   "outputs": [
    {
     "name": "stdout",
     "output_type": "stream",
     "text": [
      "/home/echo/xai-interventional-robustness\n"
     ]
    }
   ],
   "source": [
    "%cd ../.."
   ]
  },
  {
   "cell_type": "code",
   "execution_count": null,
   "metadata": {},
   "outputs": [],
   "source": []
  },
  {
   "cell_type": "code",
   "execution_count": 2,
   "metadata": {},
   "outputs": [],
   "source": [
    "nAgents=11\n",
    "nStates=30\n",
    "from analysis.checkpoints import checkpoints\n",
    "\n",
    "from runners.src.run_intervention_eval import (\n",
    "    supported_environments,\n",
    "    model_names,\n",
    ")\n",
    "import numpy as np\n",
    "\n",
    "from analysis.src.js_divergence import get_js_divergence_matrix\n",
    "from envs.wrappers.paths import get_num_interventions"
   ]
  },
  {
   "cell_type": "code",
   "execution_count": 3,
   "metadata": {},
   "outputs": [
    {
     "name": "stdout",
     "output_type": "stream",
     "text": [
      "Proportion outside bounds for SpaceInvaders: 0.0015730337078651685\n",
      "Proportion outside bounds for Amidar: 0.012428571428571428\n",
      "Proportion outside bounds for Breakout: 0.008098290598290599\n"
     ]
    }
   ],
   "source": [
    "for env in supported_environments:\n",
    "    nintv = get_num_interventions(env)\n",
    "    numerator = 0\n",
    "    denominator = 0\n",
    "\n",
    "    for fam in model_names:\n",
    "        for check in checkpoints:\n",
    "            # print(f\"{fam} {check}\")\n",
    "            dir = f\"storage/results/intervention_js_div/{env}/{fam}/{nAgents}_agents/{nStates}_states/trajectory/check_{check}\"\n",
    "\n",
    "            vdata = np.loadtxt(dir + f\"/vanilla.txt\")\n",
    "            data = np.loadtxt(dir + f\"/{nintv}_interventions.txt\")\n",
    "\n",
    "            mat, nmat, van_mat, intv_mat, n_intv_mat = get_js_divergence_matrix(data, vdata)\n",
    "\n",
    "            nmat = (2 - (nmat + 1)) - 1\n",
    "\n",
    "            above = np.count_nonzero(nmat > 0.5)\n",
    "            below = np.count_nonzero(nmat < -0.5)\n",
    "            total = np.size(nmat)\n",
    "\n",
    "            numerator += above + below\n",
    "            denominator += total\n",
    "\n",
    "    print(f\"Proportion outside bounds for {env}: {numerator/denominator}\")"
   ]
  }
 ],
 "metadata": {
  "kernelspec": {
   "display_name": "Python 3.7.10 ('xai_ir')",
   "language": "python",
   "name": "python3"
  },
  "language_info": {
   "codemirror_mode": {
    "name": "ipython",
    "version": 3
   },
   "file_extension": ".py",
   "mimetype": "text/x-python",
   "name": "python",
   "nbconvert_exporter": "python",
   "pygments_lexer": "ipython3",
   "version": "3.7.10"
  },
  "orig_nbformat": 4,
  "vscode": {
   "interpreter": {
    "hash": "8bc33f715a3854f42d126c96ac207d25b923a504e180bff9b857d070c7503977"
   }
  }
 },
 "nbformat": 4,
 "nbformat_minor": 2
}
